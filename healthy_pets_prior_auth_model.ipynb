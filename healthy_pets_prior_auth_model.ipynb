{
 "cells": [
  {
   "cell_type": "markdown",
   "id": "5d9abe6d-0ef8-4acf-8791-210c0573427c",
   "metadata": {
    "jp-MarkdownHeadingCollapsed": true
   },
   "source": [
    "**Healthy Pets: Prior Authorization Auto-Approval Prediction**\n",
    "\n",
    "**Context**\n",
    "\n",
    "Healthy Pets streamlines veterinary care by managing insurance prior authorizations. When a pet needs a procedure, veterinarians submit an auth request that is either auto-approved via a rule-based system or sent for manual review. To reduce delays and improve efficiency, the Data Science team aims to develop ML models that can auto-approve appropriate requests at submission time.\n",
    "\n",
    "**Business Problem**\n",
    "\n",
    "The goal is to predict which prior authorization requests are likely to be approved, enabling more real-time auto-approvals. This would reduce manual review workload, accelerate care, and improve the vet and pet owner experience.\n",
    "\n",
    "**Objective**\n",
    "\n",
    "Using historical Prior Authorization and Claims data, the task is to build a ML model that predicts `authstatus`. Steps include:\n",
    "\n",
    "- Data exploration and preprocessing  \n",
    "- Feature engineering across datasets  \n",
    "- Model training and evaluation  \n",
    "- Recommendations for model deployment"
   ]
  },
  {
   "cell_type": "code",
   "execution_count": 2,
   "id": "d6184e0b-99cc-42ef-831a-32592d3d198b",
   "metadata": {},
   "outputs": [],
   "source": [
    "#Imports & Setup\n",
    "import pandas as pd\n",
    "import numpy as np\n",
    "import matplotlib.pyplot as plt\n",
    "import seaborn as sns\n",
    "from sklearn.model_selection import train_test_split, cross_val_score\n",
    "from sklearn.preprocessing import LabelEncoder\n",
    "from sklearn.ensemble import RandomForestClassifier\n",
    "from sklearn.metrics import classification_report, confusion_matrix, roc_auc_score"
   ]
  },
  {
   "cell_type": "code",
   "execution_count": 3,
   "id": "7b32b31f-6114-46a6-9a1c-110e3e96af0c",
   "metadata": {},
   "outputs": [],
   "source": [
    "#Load Data\n",
    "prior_auth_df = pd.read_excel(\"PriorAuth.xlsx\")\n",
    "claims_df = pd.read_excel(\"Claims.xlsx\")"
   ]
  },
  {
   "cell_type": "markdown",
   "id": "cbdf674d-8614-4243-993c-f0e2486759b4",
   "metadata": {},
   "source": [
    "**Initial Preprocessing**"
   ]
  },
  {
   "cell_type": "code",
   "execution_count": 4,
   "id": "ca767457-dab4-4da8-b9db-45f424cfa4d2",
   "metadata": {},
   "outputs": [],
   "source": [
    "# Remove pet_name column before any processing\n",
    "prior_auth_df = prior_auth_df.drop(columns=['pet_name'], errors='ignore')\n",
    "claims_df = claims_df.drop(columns=['Pet_Name'], errors='ignore')\n",
    "\n",
    "# Standardize column names\n",
    "prior_auth_df.columns = prior_auth_df.columns.str.strip().str.lower().str.replace(\" \", \"_\")\n",
    "claims_df.columns = claims_df.columns.str.strip().str.lower().str.replace(\" \", \"_\")\n",
    "\n",
    "# Remove 'pending' rows from authstatus (we can't train on undecided cases)\n",
    "prior_auth_df = prior_auth_df[prior_auth_df['authstatus'].str.lower() != 'pending']\n",
    "\n",
    "# Convert date columns to datetime\n",
    "prior_auth_df['submission_date'] = pd.to_datetime(prior_auth_df['submission_date'], errors='coerce')\n",
    "claims_df['claim_date'] = pd.to_datetime(claims_df['claim_date'], errors='coerce')\n",
    "\n",
    "# Create binary target column: 'approved'\n",
    "prior_auth_df['approved'] = (prior_auth_df['authstatus'].str.lower() == 'approved').astype(int)\n",
    "\n"
   ]
  },
  {
   "cell_type": "markdown",
   "id": "092460ad-aaed-4bdb-a2c1-f4ece17968e7",
   "metadata": {},
   "source": [
    "**Exploratory Data Analysis:** Perform exploratory data analysis and create\n",
    "visualizations that provide insights into the data.\n"
   ]
  },
  {
   "cell_type": "code",
   "execution_count": 5,
   "id": "d7bc1f16-328a-4b33-9c53-e4428d3dfa77",
   "metadata": {},
   "outputs": [
    {
     "name": "stdout",
     "output_type": "stream",
     "text": [
      "Summary statistics:\n",
      "\n",
      "                    count unique                                   top  freq  \\\n",
      "id                   1924   1924  001d0f43-33a2-4add-b8a8-2b32b73ef318     1   \n",
      "service              1924      6                              Check-up   590   \n",
      "submission_date      1924    NaN                                   NaN   NaN   \n",
      "provider_id        1924.0    NaN                                   NaN   NaN   \n",
      "unit               1924.0    NaN                                   NaN   NaN   \n",
      "authstatus           1924      2                              Approved  1396   \n",
      "auto_approved        1924      2                                 False  1563   \n",
      "clinical_reviewer     590     40                         Braylon Brady    24   \n",
      "pet_id               1924    157                              PET-2366    23   \n",
      "approved           1924.0    NaN                                   NaN   NaN   \n",
      "\n",
      "                                            mean                  min  \\\n",
      "id                                           NaN                  NaN   \n",
      "service                                      NaN                  NaN   \n",
      "submission_date    2024-02-19 21:33:40.580041472  2023-08-20 14:26:19   \n",
      "provider_id                           1010.20894               1000.0   \n",
      "unit                                    1.503638                  1.0   \n",
      "authstatus                                   NaN                  NaN   \n",
      "auto_approved                                NaN                  NaN   \n",
      "clinical_reviewer                            NaN                  NaN   \n",
      "pet_id                                       NaN                  NaN   \n",
      "approved                                0.725572                  0.0   \n",
      "\n",
      "                                   25%                  50%  \\\n",
      "id                                 NaN                  NaN   \n",
      "service                            NaN                  NaN   \n",
      "submission_date    2023-11-22 14:26:19  2024-02-19 14:26:19   \n",
      "provider_id                     1005.0               1010.0   \n",
      "unit                               1.0                  1.0   \n",
      "authstatus                         NaN                  NaN   \n",
      "auto_approved                      NaN                  NaN   \n",
      "clinical_reviewer                  NaN                  NaN   \n",
      "pet_id                             NaN                  NaN   \n",
      "approved                           0.0                  1.0   \n",
      "\n",
      "                                   75%                  max       std  \n",
      "id                                 NaN                  NaN       NaN  \n",
      "service                            NaN                  NaN       NaN  \n",
      "submission_date    2024-05-17 14:26:19  2024-08-19 14:26:19       NaN  \n",
      "provider_id                     1016.0               1020.0   6.11461  \n",
      "unit                               2.0                  4.0  0.851713  \n",
      "authstatus                         NaN                  NaN       NaN  \n",
      "auto_approved                      NaN                  NaN       NaN  \n",
      "clinical_reviewer                  NaN                  NaN       NaN  \n",
      "pet_id                             NaN                  NaN       NaN  \n",
      "approved                           1.0                  1.0  0.446342  \n"
     ]
    }
   ],
   "source": [
    "#Summary statistics\n",
    "print(\"Summary statistics:\\n\")\n",
    "print(prior_auth_df.describe(include='all').T)\n"
   ]
  },
  {
   "cell_type": "code",
   "execution_count": 6,
   "id": "b5f61f70-2898-4498-8fb7-c39d09445c02",
   "metadata": {},
   "outputs": [
    {
     "name": "stdout",
     "output_type": "stream",
     "text": [
      "Summary statistics:\n",
      "\n",
      "              count unique       top freq                           mean  \\\n",
      "provider_npi  788.0    NaN       NaN  NaN                    1010.357868   \n",
      "claim_id        788    788  1551DB6D    1                            NaN   \n",
      "claim_type      788      6  Check-up  221                            NaN   \n",
      "amount_paid   788.0    NaN       NaN  NaN                     576.892335   \n",
      "pet_id          788    141  PET-4070   10                            NaN   \n",
      "claim_date      788    NaN       NaN  NaN  2022-09-15 07:55:15.040609280   \n",
      "\n",
      "                              min                  25%                  50%  \\\n",
      "provider_npi               1000.0               1005.0               1010.0   \n",
      "claim_id                      NaN                  NaN                  NaN   \n",
      "claim_type                    NaN                  NaN                  NaN   \n",
      "amount_paid                 50.28             113.9325              189.335   \n",
      "pet_id                        NaN                  NaN                  NaN   \n",
      "claim_date    2021-08-26 14:26:19  2022-03-14 08:26:19  2022-09-08 02:26:19   \n",
      "\n",
      "                              75%                  max          std  \n",
      "provider_npi               1016.0               1020.0     6.060588  \n",
      "claim_id                      NaN                  NaN          NaN  \n",
      "claim_type                    NaN                  NaN          NaN  \n",
      "amount_paid              473.9325              4990.63  1006.383295  \n",
      "pet_id                        NaN                  NaN          NaN  \n",
      "claim_date    2023-03-04 20:26:19  2023-11-04 14:26:19          NaN  \n"
     ]
    }
   ],
   "source": [
    "#Summary statistics\n",
    "print(\"Summary statistics:\\n\")\n",
    "print(claims_df.describe(include='all').T)\n"
   ]
  },
  {
   "cell_type": "code",
   "execution_count": 7,
   "id": "bd48e516-a316-4790-be5e-0f581cdaa199",
   "metadata": {},
   "outputs": [
    {
     "name": "stdout",
     "output_type": "stream",
     "text": [
      "Missing values in PriorAuth dataset:\n",
      "id                      0\n",
      "service                 0\n",
      "submission_date         0\n",
      "provider_id             0\n",
      "unit                    0\n",
      "authstatus              0\n",
      "auto_approved           0\n",
      "clinical_reviewer    1334\n",
      "pet_id                  0\n",
      "approved                0\n",
      "dtype: int64\n",
      "\n",
      "Missing values in Claims dataset:\n",
      "provider_npi    0\n",
      "claim_id        0\n",
      "claim_type      0\n",
      "amount_paid     0\n",
      "pet_id          0\n",
      "claim_date      0\n",
      "dtype: int64\n"
     ]
    }
   ],
   "source": [
    "# Display missing value summary \n",
    "print(\"Missing values in PriorAuth dataset:\")\n",
    "print(prior_auth_df.isnull().sum())\n",
    "\n",
    "print(\"\\nMissing values in Claims dataset:\")\n",
    "print(claims_df.isnull().sum())"
   ]
  },
  {
   "cell_type": "code",
   "execution_count": 8,
   "id": "9ab3b651-96dc-44a8-b294-1c513e9d88a0",
   "metadata": {},
   "outputs": [],
   "source": [
    "# Create a new feature: was_human_reviewed (1 if there was a clinical reviewer)\n",
    "prior_auth_df['was_human_reviewed'] = prior_auth_df['clinical_reviewer'].notnull().astype(int)\n"
   ]
  },
  {
   "cell_type": "code",
   "execution_count": 9,
   "id": "319584da-288e-4849-a45c-ecb0cf7c6905",
   "metadata": {},
   "outputs": [
    {
     "data": {
      "image/png": "[encoded data removed]",
      "text/plain": [
       "<Figure size 864x432 with 1 Axes>"
      ]
     },
     "metadata": {
      "needs_background": "light"
     },
     "output_type": "display_data"
    },
    {
     "data": {
      "image/png": "[encoded data removed]",
      "text/plain": [
       "<Figure size 864x432 with 1 Axes>"
      ]
     },
     "metadata": {
      "needs_background": "light"
     },
     "output_type": "display_data"
    }
   ],
   "source": [
    "def plot_grouped_stacked_bar(df, category_col, target_col='approved', group_col='was_human_reviewed', title=''):\n",
    " \n",
    "    # Map review type\n",
    "    df = df.copy()\n",
    "    df['review_label'] = df[group_col].map({0: 'Auto', 1: 'Manual'})\n",
    "\n",
    "    # Get top N categories\n",
    "    top_cats = df[category_col].value_counts().head(10).index\n",
    "    df = df[df[category_col].isin(top_cats)]\n",
    "\n",
    "    # Create grouped and stacked count data\n",
    "    grouped = df.groupby([category_col, 'review_label', target_col]).size().unstack(fill_value=0)\n",
    "    grouped.columns = ['Denied', 'Approved']\n",
    "    grouped['Total'] = grouped['Approved'] + grouped['Denied']\n",
    "    grouped = grouped.reset_index()\n",
    "\n",
    "    # Pivot for clustered stacking\n",
    "    grouped_pivot = grouped.pivot(index=category_col, columns='review_label', values=['Denied', 'Approved']).fillna(0)\n",
    "\n",
    "    # Plot\n",
    "    categories = grouped_pivot.index\n",
    "    x = np.arange(len(categories))  # base x-ticks\n",
    "    width = 0.35  # width of each group (Auto, Manual)\n",
    "\n",
    "    fig, ax = plt.subplots(figsize=(12, 6))\n",
    "\n",
    "    # Bars for Auto\n",
    "    ax.bar(x - width/2, grouped_pivot['Denied']['Auto'], width=width, label='Denied - Auto', color='salmon')\n",
    "    ax.bar(x - width/2, grouped_pivot['Approved']['Auto'], width=width,\n",
    "           bottom=grouped_pivot['Denied']['Auto'], label='Approved - Auto', color='skyblue')\n",
    "\n",
    "    # Bars for Manual\n",
    "    ax.bar(x + width/2, grouped_pivot['Denied']['Manual'], width=width, label='Denied - Manual', color='lightcoral')\n",
    "    ax.bar(x + width/2, grouped_pivot['Approved']['Manual'], width=width,\n",
    "           bottom=grouped_pivot['Denied']['Manual'], label='Approved - Manual', color='deepskyblue')\n",
    "\n",
    "    # Annotate percentages on each bar\n",
    "    for i, cat in enumerate(categories):\n",
    "        for label, x_offset in zip(['Auto', 'Manual'], [-width/2, width/2]):\n",
    "            approved = grouped_pivot['Approved'][label][cat]\n",
    "            denied = grouped_pivot['Denied'][label][cat]\n",
    "            total = approved + denied\n",
    "            if total > 0:\n",
    "                ax.text(x[i] + x_offset, denied / 2, f\"{(denied/total)*100:.1f}%\", ha='center', va='center', fontsize=9)\n",
    "                ax.text(x[i] + x_offset, denied + approved / 2, f\"{(approved/total)*100:.1f}%\", ha='center', va='center', fontsize=9)\n",
    "\n",
    "    # Format chart\n",
    "    ax.set_title(title or f\"Approval Outcome by {category_col.title()} (Auto vs Manual)\")\n",
    "    ax.set_ylabel(\"Number of Requests\")\n",
    "    ax.set_xticks(x)\n",
    "    ax.set_xticklabels(categories, rotation=45, ha='right')\n",
    "    ax.legend(title=\"Auth Status\")\n",
    "    plt.tight_layout()\n",
    "    plt.show()\n",
    "    \n",
    "plot_grouped_stacked_bar(prior_auth_df, category_col='service', title='Approval Outcome by Service (Auto vs Manual)')\n",
    "plot_grouped_stacked_bar(prior_auth_df, category_col='provider_id', title='Approval Outcome by Provider (Auto vs Manual)')\n"
   ]
  },
  {
   "cell_type": "code",
   "execution_count": 10,
   "id": "4bc3ebbd-5e7d-41a5-bc8c-71628e55893f",
   "metadata": {},
   "outputs": [
    {
     "name": "stdout",
     "output_type": "stream",
     "text": [
      "\n",
      "Approval & Denial % by Service and Review Type:\n",
      "\n",
      "        service review_label  Approved %  Denied %\n",
      "       Check-up         Auto        99.0       1.0\n",
      "       Check-up       Manual        98.8       1.2\n",
      "Dental Cleaning         Auto        53.7      46.3\n",
      "Dental Cleaning       Manual        50.6      49.4\n",
      "       Lab Test         Auto        87.2      12.8\n",
      "       Lab Test       Manual        91.5       8.5\n",
      "        Surgery         Auto        56.5      43.5\n",
      "        Surgery       Manual        65.2      34.8\n",
      "    Vaccination         Auto        81.0      19.0\n",
      "    Vaccination       Manual        74.8      25.2\n",
      "          X-ray         Auto        43.5      56.5\n",
      "          X-ray       Manual        34.7      65.3\n",
      "\n",
      "Approval & Denial % by Provider Id and Review Type:\n",
      "\n",
      " provider_id review_label  Approved %  Denied %\n",
      "        1001         Auto        71.1      28.9\n",
      "        1001       Manual        60.0      40.0\n",
      "        1005         Auto        81.7      18.3\n",
      "        1005       Manual        60.6      39.4\n",
      "        1006         Auto        85.2      14.8\n",
      "        1006       Manual        73.5      26.5\n",
      "        1009         Auto        74.3      25.7\n",
      "        1009       Manual        76.9      23.1\n",
      "        1013         Auto        80.0      20.0\n",
      "        1013       Manual        48.1      51.9\n",
      "        1014         Auto        73.5      26.5\n",
      "        1014       Manual        67.9      32.1\n",
      "        1016         Auto        71.8      28.2\n",
      "        1016       Manual        76.7      23.3\n",
      "        1017         Auto        65.5      34.5\n",
      "        1017       Manual        68.6      31.4\n",
      "        1018         Auto        71.6      28.4\n",
      "        1018       Manual        70.3      29.7\n",
      "        1020         Auto        80.9      19.1\n",
      "        1020       Manual        76.3      23.7\n"
     ]
    }
   ],
   "source": [
    "# Copy the DataFrame and map readable review type\n",
    "df = prior_auth_df.copy()\n",
    "df['review_label'] = df['was_human_reviewed'].map({0: 'Auto', 1: 'Manual'})\n",
    "\n",
    "# Categories to analyze\n",
    "categories = ['service', 'provider_id']\n",
    "\n",
    "# Loop and display only percentages\n",
    "for cat in categories:\n",
    "    print(f\"\\nApproval & Denial % by {cat.replace('_', ' ').title()} and Review Type:\\n\")\n",
    "\n",
    "    # Limit to top 10 values for readability\n",
    "    top_values = df[cat].value_counts().head(10).index\n",
    "    filtered = df[df[cat].isin(top_values)]\n",
    "\n",
    "    # Group and calculate percentages\n",
    "    summary = (\n",
    "        filtered.groupby([cat, 'review_label', 'approved'])\n",
    "        .size()\n",
    "        .unstack(fill_value=0)\n",
    "        .rename(columns={0: 'Denied', 1: 'Approved'})\n",
    "    )\n",
    "    summary['Total'] = summary['Approved'] + summary['Denied']\n",
    "    summary['Approved %'] = (summary['Approved'] / summary['Total'] * 100).round(1)\n",
    "    summary['Denied %'] = (summary['Denied'] / summary['Total'] * 100).round(1)\n",
    "\n",
    "    # Keep only percent columns\n",
    "    percent_only = summary[['Approved %', 'Denied %']].reset_index()\n",
    "\n",
    "    # Print the result\n",
    "    print(percent_only.to_string(index=False))\n",
    "\n"
   ]
  },
  {
   "cell_type": "code",
   "execution_count": 11,
   "id": "8f824841-70ec-49f4-8de3-f459ae4dda47",
   "metadata": {},
   "outputs": [
    {
     "data": {
      "image/png": "[encoded data removed]",
      "text/plain": [
       "<Figure size 864x576 with 2 Axes>"
      ]
     },
     "metadata": {
      "needs_background": "light"
     },
     "output_type": "display_data"
    }
   ],
   "source": [
    "# Correlation heatmap\n",
    "# Only include numeric columns for correlation matrix\n",
    "numeric_df = prior_auth_df.select_dtypes(include=['number'])\n",
    "\n",
    "plt.figure(figsize=(12,8))\n",
    "sns.heatmap(numeric_df.corr(), annot=True, fmt=\".2f\", cmap='coolwarm')\n",
    "plt.title(\"Feature Correlations\")\n",
    "plt.show()\n"
   ]
  },
  {
   "cell_type": "markdown",
   "id": "ac2fc782-90ea-4ad3-a2ec-6469548cde14",
   "metadata": {},
   "source": [
    "**Feature Engineering**\n",
    "\n",
    "To improve the predictive power of the model, we engineer features from both the Prior Authorization and Claims datasets:\n",
    "\n",
    "- The number and outcome of previous auth requests\n",
    "- Time since the last authorization or claim\n",
    "- Claim frequency and amounts related to the same provider or procedure\n",
    "- Whether the same service was previously approved\n",
    "\n",
    "These engineered features are merged into a final modeling dataset for use in training and evaluation."
   ]
  },
  {
   "cell_type": "code",
   "execution_count": 12,
   "id": "3cda6e13-a48f-4d5c-9f08-60b71012280e",
   "metadata": {},
   "outputs": [],
   "source": [
    "# Create the full dataset with engineered features\n",
    "prior_auth_df_with_prior = prior_auth_df.sort_values(by=['pet_id', 'submission_date'])\n",
    "\n",
    "# Count of previous auths\n",
    "prior_auth_df_with_prior['num_prev_auths'] = prior_auth_df_with_prior.groupby('pet_id').cumcount()\n",
    "\n",
    "# Track approved/denied status\n",
    "prior_auth_df_with_prior['is_approved'] = (prior_auth_df_with_prior['authstatus'].str.lower() == 'approved').astype(int)\n",
    "prior_auth_df_with_prior['is_denied'] = (prior_auth_df_with_prior['authstatus'].str.lower() == 'denied').astype(int)\n",
    "\n",
    "# Cumulative approved/denied counts (excluding current row with shift)\n",
    "prior_auth_df_with_prior['num_prev_approved_auths'] = (\n",
    "    prior_auth_df_with_prior.groupby('pet_id')['is_approved'].cumsum().shift(1).fillna(0)\n",
    ")\n",
    "\n",
    "prior_auth_df_with_prior['num_prev_denied_auths'] = (\n",
    "    prior_auth_df_with_prior.groupby('pet_id')['is_denied'].cumsum().shift(1).fillna(0)\n",
    ")\n",
    "\n",
    "# Days since last auth\n",
    "prior_auth_df_with_prior['days_since_last_auth'] = (\n",
    "    prior_auth_df_with_prior.groupby('pet_id')['submission_date']\n",
    "    .diff().dt.days.fillna(0)\n",
    ")\n",
    "\n",
    "# Same service previously approved\n",
    "prior_auth_df_with_prior['prev_service'] = prior_auth_df_with_prior.groupby('pet_id')['service'].shift(1)\n",
    "prior_auth_df_with_prior['prev_status'] = prior_auth_df_with_prior.groupby('pet_id')['authstatus'].shift(1)\n",
    "\n",
    "prior_auth_df_with_prior['same_service_prev_approved'] = (\n",
    "    (prior_auth_df_with_prior['service'] == prior_auth_df_with_prior['prev_service']) &\n",
    "    (prior_auth_df_with_prior['prev_status'].str.lower() == 'approved')\n",
    ").astype(int)\n",
    "\n",
    "# Most recent authstatus\n",
    "prior_auth_df_with_prior['most_recent_auth_status'] = prior_auth_df_with_prior['prev_status']\n",
    "\n",
    "# Drop helper columns\n",
    "prior_auth_df_with_prior = prior_auth_df_with_prior.drop(\n",
    "    columns=['is_approved', 'is_denied', 'prev_service', 'prev_status']\n",
    ")\n",
    "\n"
   ]
  },
  {
   "cell_type": "code",
   "execution_count": 13,
   "id": "df631e44-48bf-451f-b2a2-c102ad765d98",
   "metadata": {},
   "outputs": [],
   "source": [
    "# Replace empty strings or whitespace with NaN\n",
    "prior_auth_df_with_prior['most_recent_auth_status'] = prior_auth_df_with_prior['most_recent_auth_status'].replace(r'^\\s*$', np.nan, regex=True)\n",
    "\n",
    "# Fill missing values with 'N/A'\n",
    "prior_auth_df_with_prior['most_recent_auth_status'] = prior_auth_df_with_prior['most_recent_auth_status'].fillna('N/A')\n",
    "\n",
    "# Binary indicator for whether there is a meaningful prior auth\n",
    "prior_auth_df_with_prior['has_prior_auth'] = (prior_auth_df_with_prior['most_recent_auth_status'] != 'N/A').astype(int)\n"
   ]
  },
  {
   "cell_type": "code",
   "execution_count": 14,
   "id": "6f8f8674-cc5d-4d64-a075-9e874e0e4d49",
   "metadata": {},
   "outputs": [],
   "source": [
    "# Initialize list to collect feature rows\n",
    "feature_rows = []\n",
    "\n",
    "# Loop through each prior auth to compute claim-based features\n",
    "for idx, row in prior_auth_df_with_prior.iterrows():\n",
    "    pet_id = row['pet_id']\n",
    "    sub_date = row['submission_date']\n",
    "    provider_id = row['provider_id']\n",
    "    service = row['service']\n",
    "    \n",
    "    pet_claims = claims_df[(claims_df['pet_id'] == pet_id) & (claims_df['claim_date'] < sub_date)]\n",
    "    \n",
    "    # Overall claim stats\n",
    "    num_prev_claims = len(pet_claims)\n",
    "    num_claims_last_90d = len(pet_claims[pet_claims['claim_date'] >= sub_date - pd.Timedelta(days=90)])\n",
    "    total_claimed_amount = pet_claims['amount_paid'].sum()\n",
    "    last_claim_date = pet_claims['claim_date'].max()\n",
    "    days_since_last_claim = (sub_date - last_claim_date).days if pd.notna(last_claim_date) else None\n",
    "    num_prior_same_provider_claims = len(pet_claims[pet_claims['provider_npi'] == provider_id])\n",
    "    \n",
    "    # Service-level stats (if service and claim_type match)\n",
    "    service_claims = pet_claims[pet_claims['claim_type'] == service]\n",
    "    total_claimed_amount_service = service_claims['amount_paid'].sum()\n",
    "    num_claims_service = len(service_claims)\n",
    "    last_service_claim_date = service_claims['claim_date'].max()\n",
    "    days_since_last_claim_service = (sub_date - last_service_claim_date).days if pd.notna(last_service_claim_date) else None\n",
    "    \n",
    "    # Collect features\n",
    "    feature_rows.append({\n",
    "        'num_prev_claims': num_prev_claims,\n",
    "        'num_claims_last_90d': num_claims_last_90d,\n",
    "        'total_claimed_amount': total_claimed_amount,\n",
    "        'last_claim_date': last_claim_date,\n",
    "        'days_since_last_claim': days_since_last_claim,\n",
    "        'num_prior_same_provider_claims': num_prior_same_provider_claims,\n",
    "        'total_claimed_amount_service': total_claimed_amount_service,\n",
    "        'num_claims_service': num_claims_service,\n",
    "        'last_service_claim_date': last_service_claim_date,\n",
    "        'days_since_last_claim_service': days_since_last_claim_service,\n",
    "    })\n",
    "\n",
    "# Create DataFrame and merge\n",
    "claims_features_df = pd.DataFrame(feature_rows)\n",
    "prior_auth_df_with_prior = pd.concat([prior_auth_df_with_prior.reset_index(drop=True), claims_features_df], axis=1)\n",
    "\n"
   ]
  },
  {
   "cell_type": "code",
   "execution_count": 15,
   "id": "98b0a2a6-7c12-423f-896d-71462f61369b",
   "metadata": {},
   "outputs": [],
   "source": [
    "# Convert date columns to datetime\n",
    "prior_auth_df_with_prior['submission_date'] = pd.to_datetime(prior_auth_df_with_prior['submission_date'], errors='coerce').dt.date\n",
    "prior_auth_df_with_prior['last_claim_date'] = pd.to_datetime(prior_auth_df_with_prior['last_claim_date'], errors='coerce').dt.date\n",
    "prior_auth_df_with_prior['last_service_claim_date'] = pd.to_datetime(prior_auth_df_with_prior['last_service_claim_date'], errors='coerce').dt.date"
   ]
  },
  {
   "cell_type": "code",
   "execution_count": 16,
   "id": "d2d1bb93-adc7-404b-9cb5-d229b292861c",
   "metadata": {},
   "outputs": [],
   "source": [
    "prior_auth_df_with_prior['last_claim_date'] = prior_auth_df_with_prior['last_claim_date'].replace(r'^\\s*$', np.nan, regex=True)\n",
    "prior_auth_df_with_prior['last_claim_date'] = prior_auth_df_with_prior['last_claim_date'].fillna('N/A')\n",
    "\n",
    "\n",
    "prior_auth_df_with_prior['last_service_claim_date'] = prior_auth_df_with_prior['last_claim_date'].replace(r'^\\s*$', np.nan, regex=True)\n",
    "prior_auth_df_with_prior['last_service_claim_date'] = prior_auth_df_with_prior['last_claim_date'].fillna('N/A')\n",
    "\n",
    "prior_auth_df_with_prior['days_since_last_claim'] = prior_auth_df_with_prior['days_since_last_claim'].replace(r'^\\s*$', np.nan, regex=True)\n",
    "prior_auth_df_with_prior['days_since_last_claim'] = prior_auth_df_with_prior['days_since_last_claim'].fillna(0)\n",
    "\n",
    "prior_auth_df_with_prior['days_since_last_claim_service'] = prior_auth_df_with_prior['days_since_last_claim_service'].replace(r'^\\s*$', np.nan, regex=True)\n",
    "prior_auth_df_with_prior['days_since_last_claim_service'] = prior_auth_df_with_prior['days_since_last_claim_service'].fillna(0)\n",
    "\n",
    "\n",
    "# Binary indicator for whether there is a meaningful prior auth\n",
    "prior_auth_df_with_prior['has_prior_claims'] = (prior_auth_df_with_prior['last_claim_date'] != 'N/A').astype(int)"
   ]
  },
  {
   "cell_type": "markdown",
   "id": "a6545c41-4e67-4020-9f85-47e8f548a877",
   "metadata": {},
   "source": [
    "**Model Building:** Build a predictive model to auto-approve\n",
    "prior authorizations that are not already auto-approved. Use the authstatus\n",
    "column in the prior authorization data as the target variable.\n"
   ]
  },
  {
   "cell_type": "code",
   "execution_count": 17,
   "id": "2e95077f-0bcb-454a-bf85-ace6985955bf",
   "metadata": {},
   "outputs": [],
   "source": [
    "cols_to_drop = [\n",
    "    'id',  # Unique ID, not predictive\n",
    "    'submission_date',  # Timestamp, not useful raw \n",
    "    'last_claim_date',  # Timestamp, not useful raw \n",
    "    'last_service_claim_date',  # Timestamp, not useful raw \n",
    "    'clinical_reviewer'  # Only exists for human-reviewed; not available for auto\n",
    "]\n",
    "prior_auth_df_with_prior_for_train = prior_auth_df_with_prior.drop(columns=cols_to_drop, errors='ignore')\n"
   ]
  },
  {
   "cell_type": "code",
   "execution_count": 18,
   "id": "d7bf6102-d9b3-4c97-b262-bfd76473acaa",
   "metadata": {},
   "outputs": [
    {
     "name": "stdout",
     "output_type": "stream",
     "text": [
      "\n",
      " Logistic Regression Results:\n",
      "              precision    recall  f1-score   support\n",
      "\n",
      "           0       0.66      0.66      0.66        35\n",
      "           1       0.86      0.86      0.86        83\n",
      "\n",
      "    accuracy                           0.80       118\n",
      "   macro avg       0.76      0.76      0.76       118\n",
      "weighted avg       0.80      0.80      0.80       118\n",
      "\n",
      "\n",
      " Random Forest Results:\n",
      "              precision    recall  f1-score   support\n",
      "\n",
      "           0       0.68      0.86      0.76        35\n",
      "           1       0.93      0.83      0.88        83\n",
      "\n",
      "    accuracy                           0.84       118\n",
      "   macro avg       0.81      0.84      0.82       118\n",
      "weighted avg       0.86      0.84      0.84       118\n",
      "\n",
      "\n",
      " XGBoost Results:\n",
      "              precision    recall  f1-score   support\n",
      "\n",
      "           0       0.58      0.74      0.65        35\n",
      "           1       0.88      0.77      0.82        83\n",
      "\n",
      "    accuracy                           0.76       118\n",
      "   macro avg       0.73      0.76      0.74       118\n",
      "weighted avg       0.79      0.76      0.77       118\n",
      "\n"
     ]
    }
   ],
   "source": [
    "# Filter only manually reviewed and labeled data\n",
    "train_df = prior_auth_df_with_prior_for_train[\n",
    "    (prior_auth_df_with_prior_for_train['was_human_reviewed'] == 1) &\n",
    "    (prior_auth_df_with_prior_for_train['authstatus'].isin(['Approved', 'Denied']))\n",
    "].copy()\n",
    "\n",
    "# Set target\n",
    "y = train_df['authstatus'].map({'Approved': 1, 'Denied': 0})\n",
    "\n",
    "# Drop irrelevant columns\n",
    "X = train_df.drop(columns=[\n",
    "    'authstatus', 'approved', 'pet_id', 'auto_approved'\n",
    "], errors='ignore')\n",
    "\n",
    "# Define categorical/numerical columns\n",
    "categorical_cols = X.select_dtypes(include=['object', 'category']).columns.tolist()\n",
    "numerical_cols = X.select_dtypes(include=[np.number]).columns.tolist()\n",
    "\n",
    "# Preprocessing pipeline\n",
    "from sklearn.compose import ColumnTransformer\n",
    "from sklearn.pipeline import Pipeline\n",
    "from sklearn.preprocessing import StandardScaler, OneHotEncoder\n",
    "\n",
    "preprocessor = ColumnTransformer([\n",
    "    (\"num\", StandardScaler(), numerical_cols),\n",
    "    (\"cat\", OneHotEncoder(handle_unknown=\"ignore\"), categorical_cols)\n",
    "])\n",
    "\n",
    "# Model training\n",
    "from sklearn.model_selection import train_test_split\n",
    "from sklearn.metrics import classification_report\n",
    "from sklearn.linear_model import LogisticRegression\n",
    "from sklearn.ensemble import RandomForestClassifier\n",
    "from xgboost import XGBClassifier\n",
    "\n",
    "X_train, X_test, y_train, y_test = train_test_split(\n",
    "    X, y, test_size=0.2, stratify=y, random_state=42\n",
    ")\n",
    "\n",
    "models = {\n",
    "    \"Logistic Regression\": LogisticRegression(max_iter=1000),\n",
    "    \"Random Forest\": RandomForestClassifier(n_estimators=100, random_state=42),\n",
    "    \"XGBoost\": XGBClassifier(eval_metric='logloss', random_state=42)  # ✅ cleaned up\n",
    "}\n",
    "\n",
    "for name, model in models.items():\n",
    "    print(f\"\\n {name} Results:\")\n",
    "    pipeline = Pipeline([\n",
    "        (\"preprocessor\", preprocessor),\n",
    "        (\"classifier\", model)\n",
    "    ])\n",
    "    pipeline.fit(X_train, y_train)\n",
    "    y_pred = pipeline.predict(X_test)\n",
    "    print(classification_report(y_test, y_pred))\n"
   ]
  },
  {
   "cell_type": "code",
   "execution_count": 25,
   "id": "00cb5d6b-197d-4b97-8160-bc05009f2673",
   "metadata": {},
   "outputs": [
    {
     "name": "stdout",
     "output_type": "stream",
     "text": [
      "                             Feature  Importance\n",
      "24      total_claimed_amount_service    0.105255\n",
      "5                      service_X-ray    0.097937\n",
      "0                   service_Check-up    0.079884\n",
      "21              total_claimed_amount    0.070069\n",
      "10                       provider_id    0.066413\n",
      "16              days_since_last_auth    0.066356\n",
      "22             days_since_last_claim    0.066189\n",
      "26     days_since_last_claim_service    0.058535\n",
      "13                    num_prev_auths    0.049118\n",
      "19                   num_prev_claims    0.048712\n",
      "14           num_prev_approved_auths    0.048377\n",
      "15             num_prev_denied_auths    0.035107\n",
      "25                num_claims_service    0.031982\n",
      "11                              unit    0.030457\n",
      "1            service_Dental Cleaning    0.029980\n",
      "4                service_Vaccination    0.020092\n",
      "2                   service_Lab Test    0.017650\n",
      "23    num_prior_same_provider_claims    0.015750\n",
      "17        same_service_prev_approved    0.011624\n",
      "8     most_recent_auth_status_Denied    0.010459\n",
      "3                    service_Surgery    0.010335\n",
      "7   most_recent_auth_status_Approved    0.010034\n",
      "20               num_claims_last_90d    0.007563\n",
      "27                  has_prior_claims    0.004695\n",
      "9        most_recent_auth_status_N/A    0.004472\n",
      "18                    has_prior_auth    0.002956\n",
      "6      review_type_Manually Reviewed    0.000000\n",
      "12                was_human_reviewed    0.000000\n"
     ]
    }
   ],
   "source": [
    "# Get feature names from preprocessor\n",
    "ohe = rf_pipeline.named_steps['preprocessor'].named_transformers_['cat']\n",
    "encoded_cat_features = ohe.get_feature_names_out(categorical_cols)\n",
    "\n",
    "# Combine all feature names\n",
    "numeric_features = rf_pipeline.named_steps['preprocessor'].transformers_[1][2]  # 'remainder' passthrough columns\n",
    "all_features = np.concatenate([encoded_cat_features, numeric_features])\n",
    "\n",
    "# Get importances from the classifier\n",
    "importances = rf_pipeline.named_steps['classifier'].feature_importances_\n",
    "\n",
    "# Create importance DataFrame\n",
    "importance_df = pd.DataFrame({\n",
    "    'Feature': all_features,\n",
    "    'Importance': importances\n",
    "}).sort_values(by='Importance', ascending=False)\n",
    "\n",
    "# Show top 20 features\n",
    "print(importance_df)\n"
   ]
  },
  {
   "cell_type": "code",
   "execution_count": 30,
   "id": "6be6fe78-0cc4-4c7f-8de5-201227a204ca",
   "metadata": {},
   "outputs": [
    {
     "data": {
      "image/png": "[encoded data removed]",
      "text/plain": [
       "<Figure size 864x576 with 2 Axes>"
      ]
     },
     "metadata": {
      "needs_background": "light"
     },
     "output_type": "display_data"
    }
   ],
   "source": [
    "# Drop low-importance features \n",
    "low_importance_features = ['has_prior_claims', 'was_human_reviewed']\n",
    "X_train_reduced = X_train.drop(columns=[col for col in low_importance_features if col in X_train.columns])\n",
    "X_test_reduced = X_test.drop(columns=[col for col in low_importance_features if col in X_test.columns])\n",
    "\n",
    "\n",
    "# Check correlation among numerical features\n",
    "correlation_matrix = X_train_reduced.select_dtypes(include=['float64', 'int64']).corr()\n",
    "plt.figure(figsize=(12, 8))\n",
    "sns.heatmap(correlation_matrix, annot=False, cmap=\"coolwarm\", linewidths=0.5)\n",
    "plt.title(\"Feature Correlation Heatmap\")\n",
    "plt.show()\n"
   ]
  },
  {
   "cell_type": "markdown",
   "id": "d9714327-478b-400f-8e6e-e035b36e6748",
   "metadata": {},
   "source": [
    "## Model Evaluation and Comparison\n",
    "\n",
    "We evaluate each model using test set predictions and compare key classification metrics: Accuracy, F1 Score, Precision, and Recall. \n"
   ]
  },
  {
   "cell_type": "code",
   "execution_count": 31,
   "id": "501a8f5d-22cb-4deb-86bb-d7f3895d0f61",
   "metadata": {},
   "outputs": [
    {
     "data": {
      "text/html": [
       "<div>\n",
       "<style scoped>\n",
       "    .dataframe tbody tr th:only-of-type {\n",
       "        vertical-align: middle;\n",
       "    }\n",
       "\n",
       "    .dataframe tbody tr th {\n",
       "        vertical-align: top;\n",
       "    }\n",
       "\n",
       "    .dataframe thead th {\n",
       "        text-align: right;\n",
       "    }\n",
       "</style>\n",
       "<table border=\"1\" class=\"dataframe\">\n",
       "  <thead>\n",
       "    <tr style=\"text-align: right;\">\n",
       "      <th></th>\n",
       "      <th>Model</th>\n",
       "      <th>Accuracy</th>\n",
       "      <th>F1 Score</th>\n",
       "      <th>Precision</th>\n",
       "      <th>Recall</th>\n",
       "    </tr>\n",
       "  </thead>\n",
       "  <tbody>\n",
       "    <tr>\n",
       "      <th>1</th>\n",
       "      <td>Random Forest</td>\n",
       "      <td>0.871622</td>\n",
       "      <td>0.872914</td>\n",
       "      <td>0.875002</td>\n",
       "      <td>0.871622</td>\n",
       "    </tr>\n",
       "    <tr>\n",
       "      <th>2</th>\n",
       "      <td>XGBoost</td>\n",
       "      <td>0.851351</td>\n",
       "      <td>0.851351</td>\n",
       "      <td>0.851351</td>\n",
       "      <td>0.851351</td>\n",
       "    </tr>\n",
       "    <tr>\n",
       "      <th>0</th>\n",
       "      <td>Logistic Regression</td>\n",
       "      <td>0.763514</td>\n",
       "      <td>0.764344</td>\n",
       "      <td>0.765248</td>\n",
       "      <td>0.763514</td>\n",
       "    </tr>\n",
       "  </tbody>\n",
       "</table>\n",
       "</div>"
      ],
      "text/plain": [
       "                 Model  Accuracy  F1 Score  Precision    Recall\n",
       "1        Random Forest  0.871622  0.872914   0.875002  0.871622\n",
       "2              XGBoost  0.851351  0.851351   0.851351  0.851351\n",
       "0  Logistic Regression  0.763514  0.764344   0.765248  0.763514"
      ]
     },
     "execution_count": 31,
     "metadata": {},
     "output_type": "execute_result"
    }
   ],
   "source": [
    "logreg_preds = logreg_pipeline.predict(X_test)\n",
    "rf_preds = rf_pipeline.predict(X_test)\n",
    "xgb_preds = xgb_pipeline.predict(X_test)\n",
    "\n",
    "\n",
    "# Generate classification reports as dictionaries \n",
    "logreg_report = classification_report(y_test, logreg_preds, output_dict=True)\n",
    "rf_report = classification_report(y_test, rf_preds, output_dict=True)\n",
    "xgb_report = classification_report(y_test, xgb_preds, output_dict=True)\n",
    "\n",
    "# Create summary DataFrame\n",
    "model_results = pd.DataFrame({\n",
    "    'Model': ['Logistic Regression', 'Random Forest', 'XGBoost'],\n",
    "    'Accuracy': [\n",
    "        logreg_report['accuracy'],\n",
    "        rf_report['accuracy'],\n",
    "        xgb_report['accuracy']\n",
    "    ],\n",
    "    'F1 Score': [\n",
    "        logreg_report['weighted avg']['f1-score'],\n",
    "        rf_report['weighted avg']['f1-score'],\n",
    "        xgb_report['weighted avg']['f1-score']\n",
    "    ],\n",
    "    'Precision': [\n",
    "        logreg_report['weighted avg']['precision'],\n",
    "        rf_report['weighted avg']['precision'],\n",
    "        xgb_report['weighted avg']['precision']\n",
    "    ],\n",
    "    'Recall': [\n",
    "        logreg_report['weighted avg']['recall'],\n",
    "        rf_report['weighted avg']['recall'],\n",
    "        xgb_report['weighted avg']['recall']\n",
    "    ]\n",
    "})\n",
    "\n",
    "model_results.sort_values('F1 Score', ascending=False)\n",
    "\n"
   ]
  },
  {
   "cell_type": "markdown",
   "id": "0b007d2b-8972-4e29-b09f-a88ada8b331f",
   "metadata": {},
   "source": [
    "## Model Recommendation\n",
    "\n",
    "After exploring the data, engineering meaningful features, and evaluating multiple models, we recommend the **Random Forest Classifier** \n",
    "as the best choice for deployment.\n",
    "The Random Forest model demonstrated the most balanced performance across both classes, especially in identifying cases that require manual review (class `0`) while maintaining high precision and recall for auto-approvable requests (class `1`)."
   ]
  },
  {
   "cell_type": "code",
   "execution_count": 34,
   "id": "dba6abd9-13ae-4766-bd73-b3584aad9493",
   "metadata": {},
   "outputs": [
    {
     "data": {
      "image/png": "[encoded data removed]",
      "text/plain": [
       "<Figure size 576x360 with 1 Axes>"
      ]
     },
     "metadata": {
      "needs_background": "light"
     },
     "output_type": "display_data"
    }
   ],
   "source": [
    "from sklearn.metrics import precision_recall_curve\n",
    "\n",
    "# Get predicted probabilities\n",
    "y_scores = rf_pipeline.predict_proba(X_test)[:, 1]\n",
    "\n",
    "# Compute precision-recall pairs\n",
    "precision, recall, thresholds = precision_recall_curve(y_test, y_scores)\n",
    "\n",
    "# Plot\n",
    "plt.figure(figsize=(8, 5))\n",
    "plt.plot(thresholds, precision[:-1], label='Precision')\n",
    "plt.plot(thresholds, recall[:-1], label='Recall')\n",
    "plt.xlabel(\"Threshold\")\n",
    "plt.ylabel(\"Score\")\n",
    "plt.title(\"Precision vs. Recall vs. Threshold (Random Forest)\")\n",
    "plt.legend()\n",
    "plt.grid(True)\n",
    "plt.tight_layout()\n",
    "plt.show()\n"
   ]
  },
  {
   "cell_type": "markdown",
   "id": "78816529-df0d-4875-9947-0eef2035f24e",
   "metadata": {},
   "source": [
    "Based on the Precision-Recall vs Threshold plot, we recommend:\n",
    "\n",
    "- **Threshold = 0.6** for auto-approval.\n",
    "  - At this point, we achieve high precision ~90% with acceptable recall ~80%.\n",
    "  - This means the model will only auto-approve when it is reasonably confident (fewer denials slipping through).\n",
    "  - Requests below the threshold can still go to manual review.\n"
   ]
  },
  {
   "cell_type": "code",
   "execution_count": 35,
   "id": "ea2502c4-ba31-4087-a75c-b56ad256fdf2",
   "metadata": {},
   "outputs": [
    {
     "name": "stdout",
     "output_type": "stream",
     "text": [
      "              precision    recall  f1-score   support\n",
      "\n",
      "           0       0.62      0.81      0.70        42\n",
      "           1       0.91      0.80      0.85       106\n",
      "\n",
      "    accuracy                           0.80       148\n",
      "   macro avg       0.77      0.81      0.78       148\n",
      "weighted avg       0.83      0.80      0.81       148\n",
      "\n"
     ]
    }
   ],
   "source": [
    "# Set threshold\n",
    "threshold = 0.6\n",
    "\n",
    "# Predict probabilities (class 1 = Approved)\n",
    "y_probs = rf_pipeline.predict_proba(X_test)[:, 1]\n",
    "\n",
    "# Apply threshold to get final predicted class\n",
    "y_pred_thresholded = (y_probs >= threshold).astype(int)\n",
    "\n",
    "# Evaluate performance\n",
    "from sklearn.metrics import classification_report\n",
    "print(classification_report(y_test, y_pred_thresholded))\n"
   ]
  },
  {
   "cell_type": "markdown",
   "id": "431e9349-7a32-4b88-9886-86b97a12ad1d",
   "metadata": {},
   "source": [
    "## Hyperparameter Tuning for Random Forest\n"
   ]
  },
  {
   "cell_type": "code",
   "execution_count": 68,
   "id": "8821f6df-d788-4387-a28f-7a3939f1a61b",
   "metadata": {},
   "outputs": [
    {
     "name": "stdout",
     "output_type": "stream",
     "text": [
      "Fitting 3 folds for each of 24 candidates, totalling 72 fits\n",
      "Best parameters: {'classifier__max_depth': None, 'classifier__min_samples_leaf': 2, 'classifier__min_samples_split': 2, 'classifier__n_estimators': 100}\n",
      "Best F1 Score: 0.8659364155895819\n"
     ]
    }
   ],
   "source": [
    "from sklearn.ensemble import RandomForestClassifier\n",
    "from sklearn.model_selection import GridSearchCV\n",
    "from sklearn.pipeline import Pipeline\n",
    "\n",
    "# Define hyperparameter grid\n",
    "rf_param_grid = {\n",
    "    'classifier__n_estimators': [100, 200],\n",
    "    'classifier__max_depth': [None, 10, 20],\n",
    "    'classifier__min_samples_split': [2, 5],\n",
    "    'classifier__min_samples_leaf': [1, 2]\n",
    "}\n",
    "\n",
    "# Build pipeline \n",
    "rf_pipeline = Pipeline(steps=[\n",
    "    ('preprocessor', preprocessor),\n",
    "    ('classifier', RandomForestClassifier(random_state=42))\n",
    "])\n",
    "\n",
    "# Grid search\n",
    "rf_grid_search = GridSearchCV(\n",
    "    rf_pipeline,\n",
    "    rf_param_grid,\n",
    "    cv=3,\n",
    "    scoring='f1',\n",
    "    verbose=1,\n",
    "    n_jobs=-1\n",
    ")\n",
    "\n",
    "# Fit grid search\n",
    "rf_grid_search.fit(X_train, y_train)\n",
    "\n",
    "# Print best results\n",
    "print(\"Best parameters:\", rf_grid_search.best_params_)\n",
    "print(\"Best F1 Score:\", rf_grid_search.best_score_)\n"
   ]
  },
  {
   "cell_type": "code",
   "execution_count": 41,
   "id": "62e79674-818c-4b36-994f-4c500d58bc9a",
   "metadata": {},
   "outputs": [
    {
     "name": "stdout",
     "output_type": "stream",
     "text": [
      "              precision    recall  f1-score   support\n",
      "\n",
      "           0       0.62      0.74      0.67        42\n",
      "           1       0.89      0.82      0.85       106\n",
      "\n",
      "    accuracy                           0.80       148\n",
      "   macro avg       0.75      0.78      0.76       148\n",
      "weighted avg       0.81      0.80      0.80       148\n",
      "\n",
      "Confusion Matrix:\n",
      " [[31 11]\n",
      " [19 87]]\n"
     ]
    }
   ],
   "source": [
    "from sklearn.metrics import classification_report, confusion_matrix\n",
    "\n",
    "# Predict with best estimator\n",
    "rf_best_model = rf_grid_search.best_estimator_\n",
    "y_pred_rf = rf_best_model.predict(X_test)\n",
    "\n",
    "# Evaluate\n",
    "print(classification_report(y_test, y_pred_rf))\n",
    "print(\"Confusion Matrix:\\n\", confusion_matrix(y_test, y_pred_rf))\n"
   ]
  },
  {
   "cell_type": "code",
   "execution_count": 42,
   "id": "b8c5a79c-6406-47c5-b4b1-f43e0907238a",
   "metadata": {},
   "outputs": [
    {
     "data": {
      "image/png": "[encoded data removed]",
      "text/plain": [
       "<Figure size 432x288 with 1 Axes>"
      ]
     },
     "metadata": {
      "needs_background": "light"
     },
     "output_type": "display_data"
    },
    {
     "name": "stdout",
     "output_type": "stream",
     "text": [
      "Average Precision Score: 0.9266876071382575\n"
     ]
    }
   ],
   "source": [
    "from sklearn.metrics import precision_recall_curve, average_precision_score\n",
    "import matplotlib.pyplot as plt\n",
    "\n",
    "y_proba_rf = rf_best_model.predict_proba(X_test)[:, 1]\n",
    "precision, recall, thresholds = precision_recall_curve(y_test, y_proba_rf)\n",
    "\n",
    "plt.plot(recall, precision, label=\"Precision-Recall Curve (RF)\")\n",
    "plt.xlabel(\"Recall\")\n",
    "plt.ylabel(\"Precision\")\n",
    "plt.title(\"Precision-Recall Curve (Tuned RF)\")\n",
    "plt.legend()\n",
    "plt.grid()\n",
    "plt.show()\n",
    "\n",
    "print(\"Average Precision Score:\", average_precision_score(y_test, y_proba_rf))\n"
   ]
  },
  {
   "cell_type": "code",
   "execution_count": 49,
   "id": "927282d7-093f-45a5-a5ac-3618a1e187db",
   "metadata": {},
   "outputs": [
    {
     "name": "stdout",
     "output_type": "stream",
     "text": [
      "Random Forest Model (Threshold = 0.9):\n",
      "              precision    recall  f1-score   support\n",
      "\n",
      "      Denied       0.40      0.98      0.57        42\n",
      "    Approved       0.98      0.42      0.58       106\n",
      "\n",
      "    accuracy                           0.57       148\n",
      "   macro avg       0.69      0.70      0.57       148\n",
      "weighted avg       0.81      0.57      0.58       148\n",
      "\n",
      "Confusion Matrix:\n",
      "[[41  1]\n",
      " [62 44]]\n",
      "\n",
      "Auto-Approval Rate at threshold 0.9: 30.41%\n"
     ]
    }
   ],
   "source": [
    "from sklearn.metrics import classification_report, confusion_matrix\n",
    "\n",
    "# Get predicted probabilities (for class = 1: Approved)\n",
    "threshold = 0.90  \n",
    "\n",
    "# Using Random Forest:\n",
    "rf_probs = rf_pipeline.predict_proba(X_test)[:, 1]\n",
    "\n",
    "# Apply threshold to classify as auto-approved\n",
    "rf_final_preds = (rf_probs >= threshold).astype(int)\n",
    "\n",
    "# Evaluate performance at this threshold\n",
    "print(f\"Random Forest Model (Threshold = {threshold}):\")\n",
    "print(classification_report(y_test, rf_final_preds, target_names=['Denied', 'Approved']))\n",
    "print(\"Confusion Matrix:\")\n",
    "print(confusion_matrix(y_test, rf_final_preds))\n",
    "\n",
    "# See what percentage of requests would be auto-approved\n",
    "auto_approved_rate = (rf_final_preds == 1).mean()\n",
    "print(f\"\\nAuto-Approval Rate at threshold {threshold}: {auto_approved_rate:.2%}\")\n"
   ]
  },
  {
   "cell_type": "markdown",
   "id": "f0f62935-bb4a-4345-8d77-fe4a161e249f",
   "metadata": {},
   "source": [
    "## Optimal Threshold Selection Using F1 Score\n",
    "\n",
    "We iterate through thresholds to find the value that maximizes F1 score on the test set. This optimized threshold balances precision and recall for real-world application.\n"
   ]
  },
  {
   "cell_type": "code",
   "execution_count": 54,
   "id": "254b5cb4-73e6-4b62-a32b-89b947ad6418",
   "metadata": {},
   "outputs": [],
   "source": [
    "full_df = prior_auth_df_with_prior.copy()\n",
    "\n",
    "# Filter for pending, non-reviewed, non-auto-approved requests\n",
    "pending_for_ml = full_df[\n",
    "    (full_df['auto_approved'] == 0) &\n",
    "    (full_df['was_human_reviewed'] == 0)\n",
    "].copy()\n",
    "\n"
   ]
  },
  {
   "cell_type": "code",
   "execution_count": 55,
   "id": "b25433b0-a159-4af2-8261-11affcef97c5",
   "metadata": {},
   "outputs": [],
   "source": [
    "# Use final pipeline \n",
    "approval_probs = rf_pipeline.predict_proba(pending_for_ml)[:, 1]\n"
   ]
  },
  {
   "cell_type": "code",
   "execution_count": 56,
   "id": "3f3f5100-6213-4ea8-bad0-65baa87b3c6a",
   "metadata": {},
   "outputs": [],
   "source": [
    "pending_for_ml['approval_prob'] = approval_probs\n",
    "pending_for_ml['auto_approve_ml'] = (approval_probs >= 0.9).astype(int)\n"
   ]
  },
  {
   "cell_type": "code",
   "execution_count": 57,
   "id": "63c8aa6b-1dbb-40a4-8131-715303d3ef6b",
   "metadata": {},
   "outputs": [
    {
     "name": "stdout",
     "output_type": "stream",
     "text": [
      "ML Auto-Approval Rate: 29.18%\n"
     ]
    }
   ],
   "source": [
    "# How many would be auto-approved?\n",
    "auto_approval_rate = pending_for_ml['auto_approve_ml'].mean()\n",
    "print(f\"ML Auto-Approval Rate: {auto_approval_rate:.2%}\")\n"
   ]
  },
  {
   "cell_type": "code",
   "execution_count": 58,
   "id": "5e6c6d9a-c3d6-4b11-90bf-d5d311ef0d04",
   "metadata": {},
   "outputs": [
    {
     "name": "stdout",
     "output_type": "stream",
     "text": [
      "🔍 Best Threshold: 0.47 with F1 Score: 0.8708\n"
     ]
    }
   ],
   "source": [
    "from sklearn.metrics import f1_score\n",
    "\n",
    "best_threshold = 0.0\n",
    "best_f1 = 0.0\n",
    "\n",
    "for t in np.arange(0.1, 0.95, 0.01):\n",
    "    preds = (rf_pipeline.predict_proba(X_test)[:, 1] >= t).astype(int)\n",
    "    f1 = f1_score(y_test, preds)\n",
    "    if f1 > best_f1:\n",
    "        best_f1 = f1\n",
    "        best_threshold = t\n",
    "\n",
    "print(f\"🔍 Best Threshold: {best_threshold:.2f} with F1 Score: {best_f1:.4f}\")\n",
    "\n"
   ]
  },
  {
   "cell_type": "markdown",
   "id": "4b42507d-557f-4b6e-a9b5-92605e5fd7ab",
   "metadata": {},
   "source": [
    "## Final Model Prediction (Deployment Phase)\n",
    "\n",
    "We apply the optimized Random Forest model to pending prior auth requests that were not auto-approved and not yet reviewed. This allows us to estimate how many requests could be confidently auto-approved by the model in production.\n",
    "\n",
    "This provides a business-facing metric: the potential auto-approval rate if ML were deployed with the chosen threshold.\n"
   ]
  },
  {
   "cell_type": "code",
   "execution_count": 59,
   "id": "4aa9b293-6a88-4968-a111-1f0af1bcb718",
   "metadata": {},
   "outputs": [
    {
     "name": "stdout",
     "output_type": "stream",
     "text": [
      "📊 Random Forest Results with Tuned Threshold:\n",
      "              precision    recall  f1-score   support\n",
      "\n",
      "           0       0.67      0.71      0.69        42\n",
      "           1       0.88      0.86      0.87       106\n",
      "\n",
      "    accuracy                           0.82       148\n",
      "   macro avg       0.78      0.79      0.78       148\n",
      "weighted avg       0.82      0.82      0.82       148\n",
      "\n",
      "Confusion Matrix:\n",
      " [[30 12]\n",
      " [15 91]]\n"
     ]
    }
   ],
   "source": [
    "# Use best threshold for final predictions\n",
    "rf_probs = rf_pipeline.predict_proba(X_test)[:, 1]\n",
    "rf_final_preds = (rf_probs >= 0.47).astype(int)\n",
    "\n",
    "from sklearn.metrics import classification_report, confusion_matrix\n",
    "print(\"📊 Random Forest Results with Tuned Threshold:\")\n",
    "print(classification_report(y_test, rf_final_preds))\n",
    "print(\"Confusion Matrix:\\n\", confusion_matrix(y_test, rf_final_preds))\n"
   ]
  },
  {
   "cell_type": "code",
   "execution_count": 60,
   "id": "13d342ad-b51a-4c0c-8895-9cdadded2a8f",
   "metadata": {},
   "outputs": [
    {
     "name": "stdout",
     "output_type": "stream",
     "text": [
      " ML Auto-Approval Rate at threshold 0.47: 73.87%\n"
     ]
    }
   ],
   "source": [
    "# Filter for pending requests\n",
    "pending_for_ml = prior_auth_df_with_prior[\n",
    "    (prior_auth_df_with_prior['auto_approved'] == 0) &\n",
    "    (prior_auth_df_with_prior['was_human_reviewed'] == 0)\n",
    "].copy()\n",
    "\n",
    "X_pending = pending_for_ml[X_train.columns]\n",
    "\n",
    "pending_probs = rf_pipeline.predict_proba(X_pending)[:, 1]\n",
    "pending_preds = (pending_probs >= 0.47).astype(int)\n",
    "\n",
    "ml_auto_approval_rate = pending_preds.mean() * 100\n",
    "print(f\" ML Auto-Approval Rate at threshold 0.47: {ml_auto_approval_rate:.2f}%\")\n"
   ]
  }
 ],
 "metadata": {
  "kernelspec": {
   "display_name": "Python 3 (ipykernel)",
   "language": "python",
   "name": "python3"
  },
  "language_info": {
   "codemirror_mode": {
    "name": "ipython",
    "version": 3
   },
   "file_extension": ".py",
   "mimetype": "text/x-python",
   "name": "python",
   "nbconvert_exporter": "python",
   "pygments_lexer": "ipython3",
   "version": "3.12.7"
  }
 },
 "nbformat": 4,
 "nbformat_minor": 5
}
